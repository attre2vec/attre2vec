{
 "cells": [
  {
   "cell_type": "code",
   "execution_count": 1,
   "metadata": {},
   "outputs": [],
   "source": [
    "import sys; sys.path.append('../..')"
   ]
  },
  {
   "cell_type": "code",
   "execution_count": 2,
   "metadata": {},
   "outputs": [],
   "source": [
    "import os\n",
    "import pickle\n",
    "\n",
    "from IPython.display import display, Markdown\n",
    "import numpy as np\n",
    "import pandas as pd\n",
    "from tqdm.auto import tqdm\n",
    "\n",
    "from attre2vec.evaluation import metrics as ae_mtr"
   ]
  },
  {
   "cell_type": "code",
   "execution_count": 3,
   "metadata": {},
   "outputs": [],
   "source": [
    "def evaluate_edge_clustering(model_names, dataset_names, base_path):\n",
    "    res = {}\n",
    "    \n",
    "    for dataset_name in tqdm(dataset_names, desc='Dataset'):\n",
    "        dataset_path = os.path.join(base_path, f'data/datasets/{dataset_name}.pkl')\n",
    "\n",
    "        with open(dataset_path, 'rb') as fin:\n",
    "            ds = pickle.load(fin)\n",
    "\n",
    "\n",
    "        for mn in tqdm(model_names, desc='Models', leave=False):\n",
    "            accs = []\n",
    "            for ds_idx in tqdm(range(ds['num_datasets']), desc='Dataset samples', leave=False):\n",
    "                y = np.array([\n",
    "                    *ds['Xy'][ds_idx]['train']['y'],\n",
    "                    *ds['Xy'][ds_idx]['val']['y'],\n",
    "                    *ds['Xy'][ds_idx]['test']['y'],\n",
    "                ])\n",
    "\n",
    "                vp = os.path.join(\n",
    "                    base_path, 'data/vectors', dataset_name, mn, f'{ds_idx}.pkl'\n",
    "                )\n",
    "                with open(vp, 'rb') as fin:\n",
    "                    embs = np.array(pickle.load(fin))\n",
    "\n",
    "                accs.append(ae_mtr.acc(embs=embs, y_true=y))\n",
    "\n",
    "            mean = np.round(np.mean(accs) * 100.0, 2)\n",
    "            std = np.round(np.std(accs) * 100.0, 2)\n",
    "\n",
    "            res[(dataset_name, mn)] = {'mean': mean, 'std': std}\n",
    "    \n",
    "    return res\n"
   ]
  },
  {
   "cell_type": "code",
   "execution_count": 4,
   "metadata": {},
   "outputs": [],
   "source": [
    "datasets = ['cora', 'citeseer', 'pubmed']\n",
    "    \n",
    "model_names = [\n",
    "    'BL_dw/nf/full', 'BL_dw/nfef/full',\n",
    "    'BL_n2v/nf/full', 'BL_n2v/nfef/full',\n",
    "    'BL_sdne/nf/full', 'BL_sdne/nfef/full',\n",
    "    'BL_struc2vec/nf/full', 'BL_struc2vec/nfef/full',\n",
    "    'BL_graphsage/nf/full', 'BL_graphsage/nfef/full',\n",
    "    \n",
    "    'BL_simple/full',\n",
    "    \n",
    "    'BL_line2vec',\n",
    "    \n",
    "    'AttrE2vec_Avg', 'AttrE2vec_Exp', 'AttrE2vec_GRU', 'AttrE2vec_ConcatGRU',\n",
    "    \n",
    "    'MLP_dw/MLP2', 'MLP_n2v/MLP2', 'MLP_sdne/MLP2', 'MLP_struc2vec/MLP2', 'MLP_graphsage/MLP2', \n",
    "    'MLP_dw/MLP3', 'MLP_n2v/MLP3', 'MLP_sdne/MLP3', 'MLP_struc2vec/MLP3', 'MLP_graphsage/MLP3', \n",
    "]"
   ]
  },
  {
   "cell_type": "code",
   "execution_count": 5,
   "metadata": {},
   "outputs": [
    {
     "data": {
      "application/vnd.jupyter.widget-view+json": {
       "model_id": "adefb17580cf45a19a01b54e2a0c1a4e",
       "version_major": 2,
       "version_minor": 0
      },
      "text/plain": [
       "HBox(children=(FloatProgress(value=0.0, description='Dataset', max=3.0, style=ProgressStyle(description_width=…"
      ]
     },
     "metadata": {},
     "output_type": "display_data"
    },
    {
     "data": {
      "application/vnd.jupyter.widget-view+json": {
       "model_id": "",
       "version_major": 2,
       "version_minor": 0
      },
      "text/plain": [
       "HBox(children=(FloatProgress(value=0.0, description='Models', max=26.0, style=ProgressStyle(description_width=…"
      ]
     },
     "metadata": {},
     "output_type": "display_data"
    },
    {
     "data": {
      "application/vnd.jupyter.widget-view+json": {
       "model_id": "",
       "version_major": 2,
       "version_minor": 0
      },
      "text/plain": [
       "HBox(children=(FloatProgress(value=0.0, description='Dataset samples', max=10.0, style=ProgressStyle(descripti…"
      ]
     },
     "metadata": {},
     "output_type": "display_data"
    },
    {
     "data": {
      "application/vnd.jupyter.widget-view+json": {
       "model_id": "",
       "version_major": 2,
       "version_minor": 0
      },
      "text/plain": [
       "HBox(children=(FloatProgress(value=0.0, description='Dataset samples', max=10.0, style=ProgressStyle(descripti…"
      ]
     },
     "metadata": {},
     "output_type": "display_data"
    },
    {
     "data": {
      "application/vnd.jupyter.widget-view+json": {
       "model_id": "",
       "version_major": 2,
       "version_minor": 0
      },
      "text/plain": [
       "HBox(children=(FloatProgress(value=0.0, description='Dataset samples', max=10.0, style=ProgressStyle(descripti…"
      ]
     },
     "metadata": {},
     "output_type": "display_data"
    },
    {
     "data": {
      "application/vnd.jupyter.widget-view+json": {
       "model_id": "",
       "version_major": 2,
       "version_minor": 0
      },
      "text/plain": [
       "HBox(children=(FloatProgress(value=0.0, description='Dataset samples', max=10.0, style=ProgressStyle(descripti…"
      ]
     },
     "metadata": {},
     "output_type": "display_data"
    },
    {
     "data": {
      "application/vnd.jupyter.widget-view+json": {
       "model_id": "",
       "version_major": 2,
       "version_minor": 0
      },
      "text/plain": [
       "HBox(children=(FloatProgress(value=0.0, description='Dataset samples', max=10.0, style=ProgressStyle(descripti…"
      ]
     },
     "metadata": {},
     "output_type": "display_data"
    },
    {
     "data": {
      "application/vnd.jupyter.widget-view+json": {
       "model_id": "",
       "version_major": 2,
       "version_minor": 0
      },
      "text/plain": [
       "HBox(children=(FloatProgress(value=0.0, description='Dataset samples', max=10.0, style=ProgressStyle(descripti…"
      ]
     },
     "metadata": {},
     "output_type": "display_data"
    },
    {
     "data": {
      "application/vnd.jupyter.widget-view+json": {
       "model_id": "",
       "version_major": 2,
       "version_minor": 0
      },
      "text/plain": [
       "HBox(children=(FloatProgress(value=0.0, description='Dataset samples', max=10.0, style=ProgressStyle(descripti…"
      ]
     },
     "metadata": {},
     "output_type": "display_data"
    },
    {
     "data": {
      "application/vnd.jupyter.widget-view+json": {
       "model_id": "",
       "version_major": 2,
       "version_minor": 0
      },
      "text/plain": [
       "HBox(children=(FloatProgress(value=0.0, description='Dataset samples', max=10.0, style=ProgressStyle(descripti…"
      ]
     },
     "metadata": {},
     "output_type": "display_data"
    },
    {
     "data": {
      "application/vnd.jupyter.widget-view+json": {
       "model_id": "",
       "version_major": 2,
       "version_minor": 0
      },
      "text/plain": [
       "HBox(children=(FloatProgress(value=0.0, description='Dataset samples', max=10.0, style=ProgressStyle(descripti…"
      ]
     },
     "metadata": {},
     "output_type": "display_data"
    },
    {
     "data": {
      "application/vnd.jupyter.widget-view+json": {
       "model_id": "",
       "version_major": 2,
       "version_minor": 0
      },
      "text/plain": [
       "HBox(children=(FloatProgress(value=0.0, description='Dataset samples', max=10.0, style=ProgressStyle(descripti…"
      ]
     },
     "metadata": {},
     "output_type": "display_data"
    },
    {
     "data": {
      "application/vnd.jupyter.widget-view+json": {
       "model_id": "",
       "version_major": 2,
       "version_minor": 0
      },
      "text/plain": [
       "HBox(children=(FloatProgress(value=0.0, description='Dataset samples', max=10.0, style=ProgressStyle(descripti…"
      ]
     },
     "metadata": {},
     "output_type": "display_data"
    },
    {
     "data": {
      "application/vnd.jupyter.widget-view+json": {
       "model_id": "",
       "version_major": 2,
       "version_minor": 0
      },
      "text/plain": [
       "HBox(children=(FloatProgress(value=0.0, description='Dataset samples', max=10.0, style=ProgressStyle(descripti…"
      ]
     },
     "metadata": {},
     "output_type": "display_data"
    },
    {
     "data": {
      "application/vnd.jupyter.widget-view+json": {
       "model_id": "",
       "version_major": 2,
       "version_minor": 0
      },
      "text/plain": [
       "HBox(children=(FloatProgress(value=0.0, description='Dataset samples', max=10.0, style=ProgressStyle(descripti…"
      ]
     },
     "metadata": {},
     "output_type": "display_data"
    },
    {
     "data": {
      "application/vnd.jupyter.widget-view+json": {
       "model_id": "",
       "version_major": 2,
       "version_minor": 0
      },
      "text/plain": [
       "HBox(children=(FloatProgress(value=0.0, description='Dataset samples', max=10.0, style=ProgressStyle(descripti…"
      ]
     },
     "metadata": {},
     "output_type": "display_data"
    },
    {
     "data": {
      "application/vnd.jupyter.widget-view+json": {
       "model_id": "",
       "version_major": 2,
       "version_minor": 0
      },
      "text/plain": [
       "HBox(children=(FloatProgress(value=0.0, description='Dataset samples', max=10.0, style=ProgressStyle(descripti…"
      ]
     },
     "metadata": {},
     "output_type": "display_data"
    },
    {
     "data": {
      "application/vnd.jupyter.widget-view+json": {
       "model_id": "",
       "version_major": 2,
       "version_minor": 0
      },
      "text/plain": [
       "HBox(children=(FloatProgress(value=0.0, description='Dataset samples', max=10.0, style=ProgressStyle(descripti…"
      ]
     },
     "metadata": {},
     "output_type": "display_data"
    },
    {
     "data": {
      "application/vnd.jupyter.widget-view+json": {
       "model_id": "",
       "version_major": 2,
       "version_minor": 0
      },
      "text/plain": [
       "HBox(children=(FloatProgress(value=0.0, description='Dataset samples', max=10.0, style=ProgressStyle(descripti…"
      ]
     },
     "metadata": {},
     "output_type": "display_data"
    },
    {
     "data": {
      "application/vnd.jupyter.widget-view+json": {
       "model_id": "",
       "version_major": 2,
       "version_minor": 0
      },
      "text/plain": [
       "HBox(children=(FloatProgress(value=0.0, description='Dataset samples', max=10.0, style=ProgressStyle(descripti…"
      ]
     },
     "metadata": {},
     "output_type": "display_data"
    },
    {
     "data": {
      "application/vnd.jupyter.widget-view+json": {
       "model_id": "",
       "version_major": 2,
       "version_minor": 0
      },
      "text/plain": [
       "HBox(children=(FloatProgress(value=0.0, description='Dataset samples', max=10.0, style=ProgressStyle(descripti…"
      ]
     },
     "metadata": {},
     "output_type": "display_data"
    },
    {
     "data": {
      "application/vnd.jupyter.widget-view+json": {
       "model_id": "",
       "version_major": 2,
       "version_minor": 0
      },
      "text/plain": [
       "HBox(children=(FloatProgress(value=0.0, description='Dataset samples', max=10.0, style=ProgressStyle(descripti…"
      ]
     },
     "metadata": {},
     "output_type": "display_data"
    },
    {
     "data": {
      "application/vnd.jupyter.widget-view+json": {
       "model_id": "",
       "version_major": 2,
       "version_minor": 0
      },
      "text/plain": [
       "HBox(children=(FloatProgress(value=0.0, description='Dataset samples', max=10.0, style=ProgressStyle(descripti…"
      ]
     },
     "metadata": {},
     "output_type": "display_data"
    },
    {
     "data": {
      "application/vnd.jupyter.widget-view+json": {
       "model_id": "",
       "version_major": 2,
       "version_minor": 0
      },
      "text/plain": [
       "HBox(children=(FloatProgress(value=0.0, description='Dataset samples', max=10.0, style=ProgressStyle(descripti…"
      ]
     },
     "metadata": {},
     "output_type": "display_data"
    },
    {
     "data": {
      "application/vnd.jupyter.widget-view+json": {
       "model_id": "",
       "version_major": 2,
       "version_minor": 0
      },
      "text/plain": [
       "HBox(children=(FloatProgress(value=0.0, description='Dataset samples', max=10.0, style=ProgressStyle(descripti…"
      ]
     },
     "metadata": {},
     "output_type": "display_data"
    },
    {
     "data": {
      "application/vnd.jupyter.widget-view+json": {
       "model_id": "",
       "version_major": 2,
       "version_minor": 0
      },
      "text/plain": [
       "HBox(children=(FloatProgress(value=0.0, description='Dataset samples', max=10.0, style=ProgressStyle(descripti…"
      ]
     },
     "metadata": {},
     "output_type": "display_data"
    },
    {
     "data": {
      "application/vnd.jupyter.widget-view+json": {
       "model_id": "",
       "version_major": 2,
       "version_minor": 0
      },
      "text/plain": [
       "HBox(children=(FloatProgress(value=0.0, description='Dataset samples', max=10.0, style=ProgressStyle(descripti…"
      ]
     },
     "metadata": {},
     "output_type": "display_data"
    },
    {
     "data": {
      "application/vnd.jupyter.widget-view+json": {
       "model_id": "",
       "version_major": 2,
       "version_minor": 0
      },
      "text/plain": [
       "HBox(children=(FloatProgress(value=0.0, description='Dataset samples', max=10.0, style=ProgressStyle(descripti…"
      ]
     },
     "metadata": {},
     "output_type": "display_data"
    },
    {
     "data": {
      "application/vnd.jupyter.widget-view+json": {
       "model_id": "",
       "version_major": 2,
       "version_minor": 0
      },
      "text/plain": [
       "HBox(children=(FloatProgress(value=0.0, description='Models', max=26.0, style=ProgressStyle(description_width=…"
      ]
     },
     "metadata": {},
     "output_type": "display_data"
    },
    {
     "data": {
      "application/vnd.jupyter.widget-view+json": {
       "model_id": "",
       "version_major": 2,
       "version_minor": 0
      },
      "text/plain": [
       "HBox(children=(FloatProgress(value=0.0, description='Dataset samples', max=10.0, style=ProgressStyle(descripti…"
      ]
     },
     "metadata": {},
     "output_type": "display_data"
    },
    {
     "data": {
      "application/vnd.jupyter.widget-view+json": {
       "model_id": "",
       "version_major": 2,
       "version_minor": 0
      },
      "text/plain": [
       "HBox(children=(FloatProgress(value=0.0, description='Dataset samples', max=10.0, style=ProgressStyle(descripti…"
      ]
     },
     "metadata": {},
     "output_type": "display_data"
    },
    {
     "data": {
      "application/vnd.jupyter.widget-view+json": {
       "model_id": "",
       "version_major": 2,
       "version_minor": 0
      },
      "text/plain": [
       "HBox(children=(FloatProgress(value=0.0, description='Dataset samples', max=10.0, style=ProgressStyle(descripti…"
      ]
     },
     "metadata": {},
     "output_type": "display_data"
    },
    {
     "data": {
      "application/vnd.jupyter.widget-view+json": {
       "model_id": "",
       "version_major": 2,
       "version_minor": 0
      },
      "text/plain": [
       "HBox(children=(FloatProgress(value=0.0, description='Dataset samples', max=10.0, style=ProgressStyle(descripti…"
      ]
     },
     "metadata": {},
     "output_type": "display_data"
    },
    {
     "data": {
      "application/vnd.jupyter.widget-view+json": {
       "model_id": "",
       "version_major": 2,
       "version_minor": 0
      },
      "text/plain": [
       "HBox(children=(FloatProgress(value=0.0, description='Dataset samples', max=10.0, style=ProgressStyle(descripti…"
      ]
     },
     "metadata": {},
     "output_type": "display_data"
    },
    {
     "data": {
      "application/vnd.jupyter.widget-view+json": {
       "model_id": "",
       "version_major": 2,
       "version_minor": 0
      },
      "text/plain": [
       "HBox(children=(FloatProgress(value=0.0, description='Dataset samples', max=10.0, style=ProgressStyle(descripti…"
      ]
     },
     "metadata": {},
     "output_type": "display_data"
    },
    {
     "data": {
      "application/vnd.jupyter.widget-view+json": {
       "model_id": "",
       "version_major": 2,
       "version_minor": 0
      },
      "text/plain": [
       "HBox(children=(FloatProgress(value=0.0, description='Dataset samples', max=10.0, style=ProgressStyle(descripti…"
      ]
     },
     "metadata": {},
     "output_type": "display_data"
    },
    {
     "data": {
      "application/vnd.jupyter.widget-view+json": {
       "model_id": "",
       "version_major": 2,
       "version_minor": 0
      },
      "text/plain": [
       "HBox(children=(FloatProgress(value=0.0, description='Dataset samples', max=10.0, style=ProgressStyle(descripti…"
      ]
     },
     "metadata": {},
     "output_type": "display_data"
    },
    {
     "data": {
      "application/vnd.jupyter.widget-view+json": {
       "model_id": "",
       "version_major": 2,
       "version_minor": 0
      },
      "text/plain": [
       "HBox(children=(FloatProgress(value=0.0, description='Dataset samples', max=10.0, style=ProgressStyle(descripti…"
      ]
     },
     "metadata": {},
     "output_type": "display_data"
    },
    {
     "data": {
      "application/vnd.jupyter.widget-view+json": {
       "model_id": "",
       "version_major": 2,
       "version_minor": 0
      },
      "text/plain": [
       "HBox(children=(FloatProgress(value=0.0, description='Dataset samples', max=10.0, style=ProgressStyle(descripti…"
      ]
     },
     "metadata": {},
     "output_type": "display_data"
    },
    {
     "data": {
      "application/vnd.jupyter.widget-view+json": {
       "model_id": "",
       "version_major": 2,
       "version_minor": 0
      },
      "text/plain": [
       "HBox(children=(FloatProgress(value=0.0, description='Dataset samples', max=10.0, style=ProgressStyle(descripti…"
      ]
     },
     "metadata": {},
     "output_type": "display_data"
    },
    {
     "data": {
      "application/vnd.jupyter.widget-view+json": {
       "model_id": "",
       "version_major": 2,
       "version_minor": 0
      },
      "text/plain": [
       "HBox(children=(FloatProgress(value=0.0, description='Dataset samples', max=10.0, style=ProgressStyle(descripti…"
      ]
     },
     "metadata": {},
     "output_type": "display_data"
    },
    {
     "data": {
      "application/vnd.jupyter.widget-view+json": {
       "model_id": "",
       "version_major": 2,
       "version_minor": 0
      },
      "text/plain": [
       "HBox(children=(FloatProgress(value=0.0, description='Dataset samples', max=10.0, style=ProgressStyle(descripti…"
      ]
     },
     "metadata": {},
     "output_type": "display_data"
    },
    {
     "data": {
      "application/vnd.jupyter.widget-view+json": {
       "model_id": "",
       "version_major": 2,
       "version_minor": 0
      },
      "text/plain": [
       "HBox(children=(FloatProgress(value=0.0, description='Dataset samples', max=10.0, style=ProgressStyle(descripti…"
      ]
     },
     "metadata": {},
     "output_type": "display_data"
    },
    {
     "data": {
      "application/vnd.jupyter.widget-view+json": {
       "model_id": "",
       "version_major": 2,
       "version_minor": 0
      },
      "text/plain": [
       "HBox(children=(FloatProgress(value=0.0, description='Dataset samples', max=10.0, style=ProgressStyle(descripti…"
      ]
     },
     "metadata": {},
     "output_type": "display_data"
    },
    {
     "data": {
      "application/vnd.jupyter.widget-view+json": {
       "model_id": "",
       "version_major": 2,
       "version_minor": 0
      },
      "text/plain": [
       "HBox(children=(FloatProgress(value=0.0, description='Dataset samples', max=10.0, style=ProgressStyle(descripti…"
      ]
     },
     "metadata": {},
     "output_type": "display_data"
    },
    {
     "data": {
      "application/vnd.jupyter.widget-view+json": {
       "model_id": "",
       "version_major": 2,
       "version_minor": 0
      },
      "text/plain": [
       "HBox(children=(FloatProgress(value=0.0, description='Dataset samples', max=10.0, style=ProgressStyle(descripti…"
      ]
     },
     "metadata": {},
     "output_type": "display_data"
    },
    {
     "data": {
      "application/vnd.jupyter.widget-view+json": {
       "model_id": "",
       "version_major": 2,
       "version_minor": 0
      },
      "text/plain": [
       "HBox(children=(FloatProgress(value=0.0, description='Dataset samples', max=10.0, style=ProgressStyle(descripti…"
      ]
     },
     "metadata": {},
     "output_type": "display_data"
    },
    {
     "data": {
      "application/vnd.jupyter.widget-view+json": {
       "model_id": "",
       "version_major": 2,
       "version_minor": 0
      },
      "text/plain": [
       "HBox(children=(FloatProgress(value=0.0, description='Dataset samples', max=10.0, style=ProgressStyle(descripti…"
      ]
     },
     "metadata": {},
     "output_type": "display_data"
    },
    {
     "data": {
      "application/vnd.jupyter.widget-view+json": {
       "model_id": "",
       "version_major": 2,
       "version_minor": 0
      },
      "text/plain": [
       "HBox(children=(FloatProgress(value=0.0, description='Dataset samples', max=10.0, style=ProgressStyle(descripti…"
      ]
     },
     "metadata": {},
     "output_type": "display_data"
    },
    {
     "data": {
      "application/vnd.jupyter.widget-view+json": {
       "model_id": "",
       "version_major": 2,
       "version_minor": 0
      },
      "text/plain": [
       "HBox(children=(FloatProgress(value=0.0, description='Dataset samples', max=10.0, style=ProgressStyle(descripti…"
      ]
     },
     "metadata": {},
     "output_type": "display_data"
    },
    {
     "data": {
      "application/vnd.jupyter.widget-view+json": {
       "model_id": "",
       "version_major": 2,
       "version_minor": 0
      },
      "text/plain": [
       "HBox(children=(FloatProgress(value=0.0, description='Dataset samples', max=10.0, style=ProgressStyle(descripti…"
      ]
     },
     "metadata": {},
     "output_type": "display_data"
    },
    {
     "data": {
      "application/vnd.jupyter.widget-view+json": {
       "model_id": "",
       "version_major": 2,
       "version_minor": 0
      },
      "text/plain": [
       "HBox(children=(FloatProgress(value=0.0, description='Dataset samples', max=10.0, style=ProgressStyle(descripti…"
      ]
     },
     "metadata": {},
     "output_type": "display_data"
    },
    {
     "data": {
      "application/vnd.jupyter.widget-view+json": {
       "model_id": "",
       "version_major": 2,
       "version_minor": 0
      },
      "text/plain": [
       "HBox(children=(FloatProgress(value=0.0, description='Dataset samples', max=10.0, style=ProgressStyle(descripti…"
      ]
     },
     "metadata": {},
     "output_type": "display_data"
    },
    {
     "data": {
      "application/vnd.jupyter.widget-view+json": {
       "model_id": "",
       "version_major": 2,
       "version_minor": 0
      },
      "text/plain": [
       "HBox(children=(FloatProgress(value=0.0, description='Dataset samples', max=10.0, style=ProgressStyle(descripti…"
      ]
     },
     "metadata": {},
     "output_type": "display_data"
    },
    {
     "data": {
      "application/vnd.jupyter.widget-view+json": {
       "model_id": "",
       "version_major": 2,
       "version_minor": 0
      },
      "text/plain": [
       "HBox(children=(FloatProgress(value=0.0, description='Dataset samples', max=10.0, style=ProgressStyle(descripti…"
      ]
     },
     "metadata": {},
     "output_type": "display_data"
    },
    {
     "data": {
      "application/vnd.jupyter.widget-view+json": {
       "model_id": "",
       "version_major": 2,
       "version_minor": 0
      },
      "text/plain": [
       "HBox(children=(FloatProgress(value=0.0, description='Models', max=26.0, style=ProgressStyle(description_width=…"
      ]
     },
     "metadata": {},
     "output_type": "display_data"
    },
    {
     "data": {
      "application/vnd.jupyter.widget-view+json": {
       "model_id": "",
       "version_major": 2,
       "version_minor": 0
      },
      "text/plain": [
       "HBox(children=(FloatProgress(value=0.0, description='Dataset samples', max=10.0, style=ProgressStyle(descripti…"
      ]
     },
     "metadata": {},
     "output_type": "display_data"
    },
    {
     "data": {
      "application/vnd.jupyter.widget-view+json": {
       "model_id": "",
       "version_major": 2,
       "version_minor": 0
      },
      "text/plain": [
       "HBox(children=(FloatProgress(value=0.0, description='Dataset samples', max=10.0, style=ProgressStyle(descripti…"
      ]
     },
     "metadata": {},
     "output_type": "display_data"
    },
    {
     "data": {
      "application/vnd.jupyter.widget-view+json": {
       "model_id": "",
       "version_major": 2,
       "version_minor": 0
      },
      "text/plain": [
       "HBox(children=(FloatProgress(value=0.0, description='Dataset samples', max=10.0, style=ProgressStyle(descripti…"
      ]
     },
     "metadata": {},
     "output_type": "display_data"
    },
    {
     "data": {
      "application/vnd.jupyter.widget-view+json": {
       "model_id": "",
       "version_major": 2,
       "version_minor": 0
      },
      "text/plain": [
       "HBox(children=(FloatProgress(value=0.0, description='Dataset samples', max=10.0, style=ProgressStyle(descripti…"
      ]
     },
     "metadata": {},
     "output_type": "display_data"
    },
    {
     "data": {
      "application/vnd.jupyter.widget-view+json": {
       "model_id": "",
       "version_major": 2,
       "version_minor": 0
      },
      "text/plain": [
       "HBox(children=(FloatProgress(value=0.0, description='Dataset samples', max=10.0, style=ProgressStyle(descripti…"
      ]
     },
     "metadata": {},
     "output_type": "display_data"
    },
    {
     "data": {
      "application/vnd.jupyter.widget-view+json": {
       "model_id": "",
       "version_major": 2,
       "version_minor": 0
      },
      "text/plain": [
       "HBox(children=(FloatProgress(value=0.0, description='Dataset samples', max=10.0, style=ProgressStyle(descripti…"
      ]
     },
     "metadata": {},
     "output_type": "display_data"
    },
    {
     "data": {
      "application/vnd.jupyter.widget-view+json": {
       "model_id": "",
       "version_major": 2,
       "version_minor": 0
      },
      "text/plain": [
       "HBox(children=(FloatProgress(value=0.0, description='Dataset samples', max=10.0, style=ProgressStyle(descripti…"
      ]
     },
     "metadata": {},
     "output_type": "display_data"
    },
    {
     "data": {
      "application/vnd.jupyter.widget-view+json": {
       "model_id": "",
       "version_major": 2,
       "version_minor": 0
      },
      "text/plain": [
       "HBox(children=(FloatProgress(value=0.0, description='Dataset samples', max=10.0, style=ProgressStyle(descripti…"
      ]
     },
     "metadata": {},
     "output_type": "display_data"
    },
    {
     "data": {
      "application/vnd.jupyter.widget-view+json": {
       "model_id": "",
       "version_major": 2,
       "version_minor": 0
      },
      "text/plain": [
       "HBox(children=(FloatProgress(value=0.0, description='Dataset samples', max=10.0, style=ProgressStyle(descripti…"
      ]
     },
     "metadata": {},
     "output_type": "display_data"
    },
    {
     "data": {
      "application/vnd.jupyter.widget-view+json": {
       "model_id": "",
       "version_major": 2,
       "version_minor": 0
      },
      "text/plain": [
       "HBox(children=(FloatProgress(value=0.0, description='Dataset samples', max=10.0, style=ProgressStyle(descripti…"
      ]
     },
     "metadata": {},
     "output_type": "display_data"
    },
    {
     "data": {
      "application/vnd.jupyter.widget-view+json": {
       "model_id": "",
       "version_major": 2,
       "version_minor": 0
      },
      "text/plain": [
       "HBox(children=(FloatProgress(value=0.0, description='Dataset samples', max=10.0, style=ProgressStyle(descripti…"
      ]
     },
     "metadata": {},
     "output_type": "display_data"
    },
    {
     "data": {
      "application/vnd.jupyter.widget-view+json": {
       "model_id": "",
       "version_major": 2,
       "version_minor": 0
      },
      "text/plain": [
       "HBox(children=(FloatProgress(value=0.0, description='Dataset samples', max=10.0, style=ProgressStyle(descripti…"
      ]
     },
     "metadata": {},
     "output_type": "display_data"
    },
    {
     "data": {
      "application/vnd.jupyter.widget-view+json": {
       "model_id": "",
       "version_major": 2,
       "version_minor": 0
      },
      "text/plain": [
       "HBox(children=(FloatProgress(value=0.0, description='Dataset samples', max=10.0, style=ProgressStyle(descripti…"
      ]
     },
     "metadata": {},
     "output_type": "display_data"
    },
    {
     "data": {
      "application/vnd.jupyter.widget-view+json": {
       "model_id": "",
       "version_major": 2,
       "version_minor": 0
      },
      "text/plain": [
       "HBox(children=(FloatProgress(value=0.0, description='Dataset samples', max=10.0, style=ProgressStyle(descripti…"
      ]
     },
     "metadata": {},
     "output_type": "display_data"
    },
    {
     "data": {
      "application/vnd.jupyter.widget-view+json": {
       "model_id": "",
       "version_major": 2,
       "version_minor": 0
      },
      "text/plain": [
       "HBox(children=(FloatProgress(value=0.0, description='Dataset samples', max=10.0, style=ProgressStyle(descripti…"
      ]
     },
     "metadata": {},
     "output_type": "display_data"
    },
    {
     "data": {
      "application/vnd.jupyter.widget-view+json": {
       "model_id": "",
       "version_major": 2,
       "version_minor": 0
      },
      "text/plain": [
       "HBox(children=(FloatProgress(value=0.0, description='Dataset samples', max=10.0, style=ProgressStyle(descripti…"
      ]
     },
     "metadata": {},
     "output_type": "display_data"
    },
    {
     "data": {
      "application/vnd.jupyter.widget-view+json": {
       "model_id": "",
       "version_major": 2,
       "version_minor": 0
      },
      "text/plain": [
       "HBox(children=(FloatProgress(value=0.0, description='Dataset samples', max=10.0, style=ProgressStyle(descripti…"
      ]
     },
     "metadata": {},
     "output_type": "display_data"
    },
    {
     "data": {
      "application/vnd.jupyter.widget-view+json": {
       "model_id": "",
       "version_major": 2,
       "version_minor": 0
      },
      "text/plain": [
       "HBox(children=(FloatProgress(value=0.0, description='Dataset samples', max=10.0, style=ProgressStyle(descripti…"
      ]
     },
     "metadata": {},
     "output_type": "display_data"
    },
    {
     "data": {
      "application/vnd.jupyter.widget-view+json": {
       "model_id": "",
       "version_major": 2,
       "version_minor": 0
      },
      "text/plain": [
       "HBox(children=(FloatProgress(value=0.0, description='Dataset samples', max=10.0, style=ProgressStyle(descripti…"
      ]
     },
     "metadata": {},
     "output_type": "display_data"
    },
    {
     "data": {
      "application/vnd.jupyter.widget-view+json": {
       "model_id": "",
       "version_major": 2,
       "version_minor": 0
      },
      "text/plain": [
       "HBox(children=(FloatProgress(value=0.0, description='Dataset samples', max=10.0, style=ProgressStyle(descripti…"
      ]
     },
     "metadata": {},
     "output_type": "display_data"
    },
    {
     "data": {
      "application/vnd.jupyter.widget-view+json": {
       "model_id": "",
       "version_major": 2,
       "version_minor": 0
      },
      "text/plain": [
       "HBox(children=(FloatProgress(value=0.0, description='Dataset samples', max=10.0, style=ProgressStyle(descripti…"
      ]
     },
     "metadata": {},
     "output_type": "display_data"
    },
    {
     "data": {
      "application/vnd.jupyter.widget-view+json": {
       "model_id": "",
       "version_major": 2,
       "version_minor": 0
      },
      "text/plain": [
       "HBox(children=(FloatProgress(value=0.0, description='Dataset samples', max=10.0, style=ProgressStyle(descripti…"
      ]
     },
     "metadata": {},
     "output_type": "display_data"
    },
    {
     "data": {
      "application/vnd.jupyter.widget-view+json": {
       "model_id": "",
       "version_major": 2,
       "version_minor": 0
      },
      "text/plain": [
       "HBox(children=(FloatProgress(value=0.0, description='Dataset samples', max=10.0, style=ProgressStyle(descripti…"
      ]
     },
     "metadata": {},
     "output_type": "display_data"
    },
    {
     "data": {
      "application/vnd.jupyter.widget-view+json": {
       "model_id": "",
       "version_major": 2,
       "version_minor": 0
      },
      "text/plain": [
       "HBox(children=(FloatProgress(value=0.0, description='Dataset samples', max=10.0, style=ProgressStyle(descripti…"
      ]
     },
     "metadata": {},
     "output_type": "display_data"
    },
    {
     "data": {
      "application/vnd.jupyter.widget-view+json": {
       "model_id": "",
       "version_major": 2,
       "version_minor": 0
      },
      "text/plain": [
       "HBox(children=(FloatProgress(value=0.0, description='Dataset samples', max=10.0, style=ProgressStyle(descripti…"
      ]
     },
     "metadata": {},
     "output_type": "display_data"
    },
    {
     "data": {
      "application/vnd.jupyter.widget-view+json": {
       "model_id": "",
       "version_major": 2,
       "version_minor": 0
      },
      "text/plain": [
       "HBox(children=(FloatProgress(value=0.0, description='Dataset samples', max=10.0, style=ProgressStyle(descripti…"
      ]
     },
     "metadata": {},
     "output_type": "display_data"
    },
    {
     "name": "stdout",
     "output_type": "stream",
     "text": [
      "\n"
     ]
    }
   ],
   "source": [
    "res = evaluate_edge_clustering(\n",
    "    model_names=model_names, \n",
    "    dataset_names=datasets,\n",
    "    base_path='../../'\n",
    ")"
   ]
  },
  {
   "cell_type": "code",
   "execution_count": 6,
   "metadata": {},
   "outputs": [
    {
     "data": {
      "text/html": [
       "<div>\n",
       "<style scoped>\n",
       "    .dataframe tbody tr th:only-of-type {\n",
       "        vertical-align: middle;\n",
       "    }\n",
       "\n",
       "    .dataframe tbody tr th {\n",
       "        vertical-align: top;\n",
       "    }\n",
       "\n",
       "    .dataframe thead tr th {\n",
       "        text-align: left;\n",
       "    }\n",
       "\n",
       "    .dataframe thead tr:last-of-type th {\n",
       "        text-align: right;\n",
       "    }\n",
       "</style>\n",
       "<table border=\"1\" class=\"dataframe\">\n",
       "  <thead>\n",
       "    <tr>\n",
       "      <th></th>\n",
       "      <th colspan=\"3\" halign=\"left\">accuracy</th>\n",
       "    </tr>\n",
       "    <tr>\n",
       "      <th>dataset</th>\n",
       "      <th>citeseer</th>\n",
       "      <th>cora</th>\n",
       "      <th>pubmed</th>\n",
       "    </tr>\n",
       "    <tr>\n",
       "      <th>model</th>\n",
       "      <th></th>\n",
       "      <th></th>\n",
       "      <th></th>\n",
       "    </tr>\n",
       "  </thead>\n",
       "  <tbody>\n",
       "    <tr>\n",
       "      <th>AttrE2vec_Avg</th>\n",
       "      <td>59.82 +/- 3.3</td>\n",
       "      <td>65.42 +/- 1.71</td>\n",
       "      <td>48.86 +/- 2.46</td>\n",
       "    </tr>\n",
       "    <tr>\n",
       "      <th>AttrE2vec_ConcatGRU</th>\n",
       "      <td>60.71 +/- 2.75</td>\n",
       "      <td>66.0 +/- 2.21</td>\n",
       "      <td>50.27 +/- 3.75</td>\n",
       "    </tr>\n",
       "    <tr>\n",
       "      <th>AttrE2vec_Exp</th>\n",
       "      <td>59.07 +/- 4.65</td>\n",
       "      <td>66.36 +/- 3.62</td>\n",
       "      <td>48.02 +/- 2.55</td>\n",
       "    </tr>\n",
       "    <tr>\n",
       "      <th>AttrE2vec_GRU</th>\n",
       "      <td>60.16 +/- 2.25</td>\n",
       "      <td>66.15 +/- 3.71</td>\n",
       "      <td>49.41 +/- 1.49</td>\n",
       "    </tr>\n",
       "    <tr>\n",
       "      <th>BL_dw/nf/full</th>\n",
       "      <td>28.89 +/- 1.06</td>\n",
       "      <td>21.93 +/- 0.86</td>\n",
       "      <td>27.24 +/- 0.5</td>\n",
       "    </tr>\n",
       "    <tr>\n",
       "      <th>BL_dw/nfef/full</th>\n",
       "      <td>54.13 +/- 2.73</td>\n",
       "      <td>54.7 +/- 5.85</td>\n",
       "      <td>46.33 +/- 1.53</td>\n",
       "    </tr>\n",
       "    <tr>\n",
       "      <th>BL_graphsage/nf/full</th>\n",
       "      <td>18.79 +/- 0.62</td>\n",
       "      <td>17.7 +/- 1.05</td>\n",
       "      <td>27.04 +/- 0.71</td>\n",
       "    </tr>\n",
       "    <tr>\n",
       "      <th>BL_graphsage/nfef/full</th>\n",
       "      <td>54.06 +/- 2.54</td>\n",
       "      <td>54.82 +/- 6.86</td>\n",
       "      <td>46.49 +/- 1.64</td>\n",
       "    </tr>\n",
       "    <tr>\n",
       "      <th>BL_line2vec</th>\n",
       "      <td>54.73 +/- 2.56</td>\n",
       "      <td>63.5 +/- 1.92</td>\n",
       "      <td>55.26 +/- 1.36</td>\n",
       "    </tr>\n",
       "    <tr>\n",
       "      <th>BL_n2v/nf/full</th>\n",
       "      <td>26.82 +/- 0.67</td>\n",
       "      <td>21.32 +/- 0.62</td>\n",
       "      <td>27.17 +/- 0.74</td>\n",
       "    </tr>\n",
       "    <tr>\n",
       "      <th>BL_n2v/nfef/full</th>\n",
       "      <td>54.13 +/- 2.73</td>\n",
       "      <td>54.7 +/- 5.85</td>\n",
       "      <td>46.33 +/- 1.53</td>\n",
       "    </tr>\n",
       "    <tr>\n",
       "      <th>BL_sdne/nf/full</th>\n",
       "      <td>21.01 +/- 0.5</td>\n",
       "      <td>17.97 +/- 0.47</td>\n",
       "      <td>31.38 +/- 0.69</td>\n",
       "    </tr>\n",
       "    <tr>\n",
       "      <th>BL_sdne/nfef/full</th>\n",
       "      <td>55.29 +/- 2.06</td>\n",
       "      <td>55.43 +/- 4.63</td>\n",
       "      <td>46.33 +/- 1.53</td>\n",
       "    </tr>\n",
       "    <tr>\n",
       "      <th>BL_simple/full</th>\n",
       "      <td>54.13 +/- 2.73</td>\n",
       "      <td>54.64 +/- 5.86</td>\n",
       "      <td>46.33 +/- 1.53</td>\n",
       "    </tr>\n",
       "    <tr>\n",
       "      <th>BL_struc2vec/nf/full</th>\n",
       "      <td>25.21 +/- 1.33</td>\n",
       "      <td>20.15 +/- 0.64</td>\n",
       "      <td>32.02 +/- 1.49</td>\n",
       "    </tr>\n",
       "    <tr>\n",
       "      <th>BL_struc2vec/nfef/full</th>\n",
       "      <td>55.59 +/- 1.51</td>\n",
       "      <td>52.47 +/- 6.52</td>\n",
       "      <td>46.32 +/- 1.29</td>\n",
       "    </tr>\n",
       "    <tr>\n",
       "      <th>MLP_dw/MLP2</th>\n",
       "      <td>26.36 +/- 1.37</td>\n",
       "      <td>21.06 +/- 0.57</td>\n",
       "      <td>27.4 +/- 0.93</td>\n",
       "    </tr>\n",
       "    <tr>\n",
       "      <th>MLP_dw/MLP3</th>\n",
       "      <td>48.74 +/- 4.03</td>\n",
       "      <td>47.38 +/- 4.72</td>\n",
       "      <td>46.49 +/- 1.2</td>\n",
       "    </tr>\n",
       "    <tr>\n",
       "      <th>MLP_graphsage/MLP2</th>\n",
       "      <td>18.92 +/- 0.98</td>\n",
       "      <td>17.89 +/- 0.85</td>\n",
       "      <td>27.09 +/- 0.81</td>\n",
       "    </tr>\n",
       "    <tr>\n",
       "      <th>MLP_graphsage/MLP3</th>\n",
       "      <td>48.79 +/- 4.04</td>\n",
       "      <td>47.49 +/- 5.41</td>\n",
       "      <td>45.15 +/- 1.54</td>\n",
       "    </tr>\n",
       "    <tr>\n",
       "      <th>MLP_n2v/MLP2</th>\n",
       "      <td>26.37 +/- 1.64</td>\n",
       "      <td>21.31 +/- 0.98</td>\n",
       "      <td>27.67 +/- 0.78</td>\n",
       "    </tr>\n",
       "    <tr>\n",
       "      <th>MLP_n2v/MLP3</th>\n",
       "      <td>50.8 +/- 2.3</td>\n",
       "      <td>48.48 +/- 3.38</td>\n",
       "      <td>46.15 +/- 1.43</td>\n",
       "    </tr>\n",
       "    <tr>\n",
       "      <th>MLP_sdne/MLP2</th>\n",
       "      <td>22.27 +/- 0.76</td>\n",
       "      <td>17.15 +/- 0.36</td>\n",
       "      <td>28.44 +/- 1.21</td>\n",
       "    </tr>\n",
       "    <tr>\n",
       "      <th>MLP_sdne/MLP3</th>\n",
       "      <td>46.17 +/- 3.15</td>\n",
       "      <td>44.87 +/- 3.54</td>\n",
       "      <td>45.74 +/- 1.89</td>\n",
       "    </tr>\n",
       "    <tr>\n",
       "      <th>MLP_struc2vec/MLP2</th>\n",
       "      <td>24.22 +/- 0.83</td>\n",
       "      <td>19.56 +/- 0.49</td>\n",
       "      <td>31.31 +/- 1.7</td>\n",
       "    </tr>\n",
       "    <tr>\n",
       "      <th>MLP_struc2vec/MLP3</th>\n",
       "      <td>47.35 +/- 3.73</td>\n",
       "      <td>44.38 +/- 3.04</td>\n",
       "      <td>45.4 +/- 1.72</td>\n",
       "    </tr>\n",
       "  </tbody>\n",
       "</table>\n",
       "</div>"
      ],
      "text/plain": [
       "                              accuracy                                \n",
       "dataset                       citeseer            cora          pubmed\n",
       "model                                                                 \n",
       "AttrE2vec_Avg            59.82 +/- 3.3  65.42 +/- 1.71  48.86 +/- 2.46\n",
       "AttrE2vec_ConcatGRU     60.71 +/- 2.75   66.0 +/- 2.21  50.27 +/- 3.75\n",
       "AttrE2vec_Exp           59.07 +/- 4.65  66.36 +/- 3.62  48.02 +/- 2.55\n",
       "AttrE2vec_GRU           60.16 +/- 2.25  66.15 +/- 3.71  49.41 +/- 1.49\n",
       "BL_dw/nf/full           28.89 +/- 1.06  21.93 +/- 0.86   27.24 +/- 0.5\n",
       "BL_dw/nfef/full         54.13 +/- 2.73   54.7 +/- 5.85  46.33 +/- 1.53\n",
       "BL_graphsage/nf/full    18.79 +/- 0.62   17.7 +/- 1.05  27.04 +/- 0.71\n",
       "BL_graphsage/nfef/full  54.06 +/- 2.54  54.82 +/- 6.86  46.49 +/- 1.64\n",
       "BL_line2vec             54.73 +/- 2.56   63.5 +/- 1.92  55.26 +/- 1.36\n",
       "BL_n2v/nf/full          26.82 +/- 0.67  21.32 +/- 0.62  27.17 +/- 0.74\n",
       "BL_n2v/nfef/full        54.13 +/- 2.73   54.7 +/- 5.85  46.33 +/- 1.53\n",
       "BL_sdne/nf/full          21.01 +/- 0.5  17.97 +/- 0.47  31.38 +/- 0.69\n",
       "BL_sdne/nfef/full       55.29 +/- 2.06  55.43 +/- 4.63  46.33 +/- 1.53\n",
       "BL_simple/full          54.13 +/- 2.73  54.64 +/- 5.86  46.33 +/- 1.53\n",
       "BL_struc2vec/nf/full    25.21 +/- 1.33  20.15 +/- 0.64  32.02 +/- 1.49\n",
       "BL_struc2vec/nfef/full  55.59 +/- 1.51  52.47 +/- 6.52  46.32 +/- 1.29\n",
       "MLP_dw/MLP2             26.36 +/- 1.37  21.06 +/- 0.57   27.4 +/- 0.93\n",
       "MLP_dw/MLP3             48.74 +/- 4.03  47.38 +/- 4.72   46.49 +/- 1.2\n",
       "MLP_graphsage/MLP2      18.92 +/- 0.98  17.89 +/- 0.85  27.09 +/- 0.81\n",
       "MLP_graphsage/MLP3      48.79 +/- 4.04  47.49 +/- 5.41  45.15 +/- 1.54\n",
       "MLP_n2v/MLP2            26.37 +/- 1.64  21.31 +/- 0.98  27.67 +/- 0.78\n",
       "MLP_n2v/MLP3              50.8 +/- 2.3  48.48 +/- 3.38  46.15 +/- 1.43\n",
       "MLP_sdne/MLP2           22.27 +/- 0.76  17.15 +/- 0.36  28.44 +/- 1.21\n",
       "MLP_sdne/MLP3           46.17 +/- 3.15  44.87 +/- 3.54  45.74 +/- 1.89\n",
       "MLP_struc2vec/MLP2      24.22 +/- 0.83  19.56 +/- 0.49   31.31 +/- 1.7\n",
       "MLP_struc2vec/MLP3      47.35 +/- 3.73  44.38 +/- 3.04   45.4 +/- 1.72"
      ]
     },
     "execution_count": 6,
     "metadata": {},
     "output_type": "execute_result"
    }
   ],
   "source": [
    "df = pd.DataFrame.from_records(\n",
    "    [(d, m, f'{v[\"mean\"]} +/- {v[\"std\"]}') for (d, m), v in res.items()],\n",
    "    columns=['dataset', 'model', 'accuracy'],\n",
    ")\n",
    "     \n",
    "     \n",
    "df = df.pivot(index='model', columns='dataset')\n",
    "df"
   ]
  },
  {
   "cell_type": "code",
   "execution_count": 7,
   "metadata": {},
   "outputs": [],
   "source": [
    "with open('../../data/paper/table-edge-clustering-acc.tex', 'w') as fout:\n",
    "    fout.write(df.to_latex())"
   ]
  }
 ],
 "metadata": {
  "kernelspec": {
   "display_name": "Python 3",
   "language": "python",
   "name": "python3"
  },
  "language_info": {
   "codemirror_mode": {
    "name": "ipython",
    "version": 3
   },
   "file_extension": ".py",
   "mimetype": "text/x-python",
   "name": "python",
   "nbconvert_exporter": "python",
   "pygments_lexer": "ipython3",
   "version": "3.7.4"
  }
 },
 "nbformat": 4,
 "nbformat_minor": 2
}
